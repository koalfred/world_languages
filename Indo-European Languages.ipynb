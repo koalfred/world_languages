{
 "cells": [
  {
   "cell_type": "markdown",
   "id": "cca22901",
   "metadata": {},
   "source": [
    "### Please note that all maps can be found in the indo_european_maps directory as svg files."
   ]
  },
  {
   "cell_type": "code",
   "execution_count": 2,
   "id": "4165d4e5",
   "metadata": {},
   "outputs": [],
   "source": [
    "import pygal\n",
    "from pygal.style import Style\n",
    "import pandas as pd"
   ]
  },
  {
   "cell_type": "markdown",
   "id": "25845d3b",
   "metadata": {},
   "source": [
    "# Indo-European language family\n",
    "\n",
    "The Indo-European language family is one of the major language families of the world. Many countries around the world have an Indo-European language as an official or majority language."
   ]
  },
  {
   "cell_type": "markdown",
   "id": "8ba5f381",
   "metadata": {},
   "source": [
    "## Examples of Indo-European languages\n",
    "\n",
    "- English\n",
    "- French\n",
    "- Spanish\n",
    "- German\n",
    "- Italian\n",
    "- Hindi\n",
    "- Punjabi\n",
    "- Farsi"
   ]
  },
  {
   "cell_type": "code",
   "execution_count": 44,
   "id": "0bcb986e",
   "metadata": {},
   "outputs": [],
   "source": [
    "custom_style = Style(colors = ('#2ecbd1', '#2ecbd1'))\n",
    "\n",
    "ie_worldmap = pygal.maps.world.World(style=custom_style, show_legend=False)\n",
    "\n",
    "ie_worldmap.title = 'Places where an Indo-European language(s) is (are) spoken as an official or majority language'\n",
    "\n",
    "ie_worldmap.add('Indo-European', {\n",
    "                'ad', 'af', 'al', 'am', 'ao', 'ar', 'at', 'au', 'ba', 'bd', 'be', 'bf', \n",
    "                'bg', 'bi', 'bj', 'bo', 'br', 'bw', 'by', 'bz', 'ca', 'cd', 'cf', 'cg', \n",
    "                'ch', 'ci', 'cl', 'cm', 'co', 'cr', 'cu', 'cv', 'cy', 'cz', 'de', 'dj', \n",
    "                'dk', 'do', 'ec', 'es', 'fi', 'fr', 'ga', 'gb', 'gf', 'gh', 'gl', 'gm', \n",
    "                'gn', 'gq', 'gr', 'gt', 'gu', 'gw', 'gy', 'hk', 'hn', 'hr', 'ht', 'ie', \n",
    "                'in', 'iq', 'ir', 'is', 'it', 'jm', 'ke', 'kz', 'li', 'lk', 'lr', 'ls', \n",
    "                'lt', 'lu', 'lv', 'mc', 'md', 'me', 'mg', 'mk', 'ml', 'mo', 'mt', 'mu', \n",
    "                'mv', 'mw', 'mx', 'mz', 'na', 'ne', 'ng', 'ni', 'nl', 'no', 'np', 'nz',\n",
    "                'pa', 'pe', 'pg', 'ph', 'pk', 'pl', 'pr', 'pt', 'py', 're', 'ro', 'rs', \n",
    "                'ru', 'rw', 'sc', 'sd', 'se', 'sg', 'sh', 'si', 'sk', 'sl', 'sm', 'sn', \n",
    "                'sr', 'st', 'sv', 'sz', 'td', 'tg', 'tj', 'tl', 'tz', 'ua', 'ug', 'us', \n",
    "                'uy', 'va', 've', 'yt', 'za', 'zm', 'zw'\n",
    "})\n",
    "\n",
    "ie_worldmap.render_to_file('indo_european_maps/indoeuropean.svg')"
   ]
  },
  {
   "cell_type": "markdown",
   "id": "9b80cfd5",
   "metadata": {},
   "source": [
    "The code above renders a world map revealing all the countries where an Indo-European language is spoken as an official or majority language."
   ]
  },
  {
   "cell_type": "markdown",
   "id": "d218e4cd",
   "metadata": {},
   "source": [
    "## European languages"
   ]
  },
  {
   "cell_type": "markdown",
   "id": "5875aa68",
   "metadata": {},
   "source": [
    "### English\n",
    "\n",
    "English is the most spoken language in the world by total number of speakers, amounting to almost 1.5 billion people. It is a Germanic language. The code below renders a map showing different countries in the world where English is spoken as an official or majority language, which include:\n",
    "\n",
    "- Australia\n",
    "- Belize\n",
    "- Botswana\n",
    "- Cameroon\n",
    "- Canada\n",
    "- Ghana\n",
    "- Gambia\n",
    "- Guyana\n",
    "- Hong Kong\n",
    "- Ireland\n",
    "- India\n",
    "- Jamaica\n",
    "- Kenya\n",
    "- Liberia\n",
    "- Malta\n",
    "- Malawi\n",
    "- Namibia\n",
    "- Nigeria\n",
    "- New Zealand\n",
    "- Pakistan\n",
    "- Papua New Guinea\n",
    "- Philippines\n",
    "- Rwanda\n",
    "- Sierra Leone\n",
    "- Singapore\n",
    "- South Africa\n",
    "- Sudan\n",
    "- Uganda\n",
    "- United Kingdom\n",
    "- Zambia\n",
    "- Zimbabwe"
   ]
  },
  {
   "cell_type": "code",
   "execution_count": 37,
   "id": "41da0af6",
   "metadata": {},
   "outputs": [],
   "source": [
    "custom_english_style = Style(colors = ('#4613ec', '#4613ec'))\n",
    "\n",
    "english = pygal.maps.world.World(style=custom_english_style, show_legend=False)\n",
    "\n",
    "english.title = 'Places around the world where English is spoken as an official or majority language'\n",
    "\n",
    "english.add('English', {\n",
    "            'au', 'bw', 'bz', 'ca', 'cm', 'gb', 'gh', 'gm', 'gy', 'hk', 'ie', 'in', \n",
    "            'jm', 'ke', 'lr', 'mt', 'mw', 'na', 'ng', 'nz', 'pg', 'ph', 'pk', 'rw', \n",
    "            'sd', 'sg', 'sl', 'ug', 'us', 'za', 'zm', 'zw'\n",
    "})\n",
    "\n",
    "english.render_to_file('indo_european_maps/english.svg')"
   ]
  },
  {
   "cell_type": "markdown",
   "id": "24a0b943",
   "metadata": {},
   "source": [
    "### Spanish\n",
    "\n",
    "Spanish (español, castellano) is a Romance language, which is presently the second most spoken language in the world by number of native speakers (493 million) and the third most spoken language in the world by total number of speakers (almost 600 million). The code below renders a map showing different places around the world where Spanish is spoken as an official or majority language, which include:\n",
    "\n",
    "- Argentina\n",
    "- Bolivia\n",
    "- Chile\n",
    "- Colombia\n",
    "- Costa Rica\n",
    "- Cuba\n",
    "- Dominican Republic\n",
    "- Ecuador\n",
    "- El Salvador\n",
    "- Equatorial Guinea\n",
    "- Guatemala\n",
    "- Honduras\n",
    "- Mexico\n",
    "- Nicaragua\n",
    "- Panama\n",
    "- Paraguay\n",
    "- Peru\n",
    "- Puerto Rico\n",
    "- Spain\n",
    "- Uruguay\n",
    "- Venezuela"
   ]
  },
  {
   "cell_type": "code",
   "execution_count": 38,
   "id": "b03903ef",
   "metadata": {},
   "outputs": [],
   "source": [
    "custom_spanish_style = Style(colors = ('#e8177f', '#e8177f'))\n",
    "\n",
    "spanish = pygal.maps.world.World(style=custom_spanish_style, show_legend=False)\n",
    "\n",
    "spanish.title = 'Places around the world where Spanish is spoken as an official or majority language'\n",
    "\n",
    "spanish.add('Spanish', {\n",
    "            'ar', 'bo', 'cl', 'co', 'cr', 'cu', 'do', 'ec', 'es', 'gq', 'gt', 'hn',\n",
    "            'mx', 'ni', 'pa', 'pe', 'pr', 'py', 'sv', 'uy', 've'\n",
    "})\n",
    "\n",
    "spanish.render_to_file('indo_european_maps/spanish.svg')"
   ]
  },
  {
   "cell_type": "markdown",
   "id": "14dfcf3c",
   "metadata": {},
   "source": [
    "### French\n",
    "\n",
    "French (français) is a Romance language, which is the fifth most spoken language worldwide by total number of speakers (roughly 300 million). The code below renders a map showing places where French is spoken as an official or majority language, which include:\n",
    "\n",
    "- Belgium\n",
    "- Benin\n",
    "- Burkina Faso\n",
    "- Burundi\n",
    "- Cameroon\n",
    "- Canada\n",
    "- Central African Republic\n",
    "- Chad\n",
    "- Comoros\n",
    "- Côte d'Ivoire\n",
    "- Democratic Republic of the Congo\n",
    "- Djibouti\n",
    "- Equatorial Guinea\n",
    "- France\n",
    "- Guinea\n",
    "- Haiti\n",
    "- Luxembourg\n",
    "- Madagascar\n",
    "- Mali\n",
    "- Monaco\n",
    "- Niger\n",
    "- Republic of the Congo\n",
    "- Rwanda\n",
    "- Senegal\n",
    "- Seychelles\n",
    "- Switzerland\n",
    "- Togo\n",
    "- Vanuatu"
   ]
  },
  {
   "cell_type": "code",
   "execution_count": 39,
   "id": "9741ea5b",
   "metadata": {},
   "outputs": [],
   "source": [
    "custom_french_style = Style(colors = ('#1a8ce5', '#1a8ce5'))\n",
    "\n",
    "french = pygal.maps.world.World(style=custom_french_style, show_legend=False)\n",
    "\n",
    "french.title = 'Places around the world where French is spoken as an official or majority language'\n",
    "\n",
    "french.add('French', {\n",
    "    'be', 'bf', 'bi', 'bj', 'ca', 'cd', 'cf', 'cg', 'ch', 'ci', 'cm', 'dj',\n",
    "    'fr', 'ga', 'gf', 'gn', 'gq', 'ht', 'lu', 'mc', 'mg', 'ml', 'ne', 'rw',\n",
    "    'sc', 'sn', 'td', 'tg', 'yt'\n",
    "})\n",
    "\n",
    "french.render_to_file('indo_european_maps/french.svg')"
   ]
  },
  {
   "cell_type": "markdown",
   "id": "6174d465",
   "metadata": {},
   "source": [
    "### Portuguese\n",
    "\n",
    "Portuguese (português) is a Romance language is spoken by approximately 260 million people worldwide. The code below renders a map showing places where Portuguese is spoken, which include:\n",
    "\n",
    "- Angola\n",
    "- Brazil\n",
    "- Cape Verde\n",
    "- East Timor\n",
    "- Equatorial Guinea\n",
    "- Guinea-Bissau\n",
    "- Macau\n",
    "- Mozambique\n",
    "- Portugal\n",
    "- São Tomé and Príncipe"
   ]
  },
  {
   "cell_type": "code",
   "execution_count": 40,
   "id": "01e57c7e",
   "metadata": {},
   "outputs": [],
   "source": [
    "custom_portuguese_style = Style(colors = ('#0a7938', '#0a7938'))\n",
    "\n",
    "portuguese = pygal.maps.world.World(style=custom_portuguese_style, show_legend=False)\n",
    "\n",
    "portuguese.title = 'Places around the world where Portuguese is spoken as an official or majority language'\n",
    "\n",
    "portuguese.add('Portuguese', {\n",
    "    'ao', 'br', 'cv', 'gq', 'gw', 'mo', 'mz', 'pt', 'st', 'tl'\n",
    "})\n",
    "\n",
    "portuguese.render_to_file('indo_european_maps/portuguese.svg')"
   ]
  },
  {
   "cell_type": "markdown",
   "id": "a5ce8e92",
   "metadata": {},
   "source": [
    "### Russian\n",
    "\n",
    "Russian (русский язык), is a Slavic language, spoken by around 260 million worldwide. The code below renders a map showing places where Russian is spoken as an official or majority language, which include:\n",
    "\n",
    "- Belarus\n",
    "- Kazakhstan\n",
    "- Kyrgyzstan\n",
    "- Russia"
   ]
  },
  {
   "cell_type": "code",
   "execution_count": 41,
   "id": "11dce2d8",
   "metadata": {},
   "outputs": [],
   "source": [
    "custom_russian_style = Style(colors = ('#f0738e', '#f0738e'))\n",
    "\n",
    "russian = pygal.maps.world.World(style=custom_russian_style, show_legend=False)\n",
    "\n",
    "russian.title = 'Places around the world where Russian is spoken as an official or majority language'\n",
    "\n",
    "russian.add('Russian', {\n",
    "    'by', 'kg', 'kz', 'ru'\n",
    "})\n",
    "\n",
    "russian.render_to_file('indo_european_maps/russian.svg')"
   ]
  },
  {
   "cell_type": "markdown",
   "id": "ec020704",
   "metadata": {},
   "source": [
    "### German\n",
    "\n",
    "German (Deutsch) is a Germanic language, spoken by approximately 130 million people worldwide. The code below renders a map showing places where German is spoken as an official or majority language, which include:\n",
    "\n",
    "- Austria\n",
    "- Belgium\n",
    "- Germany\n",
    "- Liechtenstein\n",
    "- Luxembourg\n",
    "- Switzerland"
   ]
  },
  {
   "cell_type": "code",
   "execution_count": 42,
   "id": "a9be2c09",
   "metadata": {},
   "outputs": [],
   "source": [
    "custom_german_style = Style(colors = ('#e0cb06', '#e0cb06'))\n",
    "\n",
    "german = pygal.maps.world.World(style=custom_german_style, show_legend=False)\n",
    "\n",
    "german.title = 'Places around the world where German is spoken as an official or majority language'\n",
    "\n",
    "german.add('German', {\n",
    "    'at', 'be', 'ch', 'de', 'li', 'lu'\n",
    "})\n",
    "\n",
    "german.render_to_file('indo_european_maps/german.svg')"
   ]
  },
  {
   "cell_type": "markdown",
   "id": "5d1786a5",
   "metadata": {},
   "source": [
    "### Italian\n",
    "\n",
    "Italian (italiano) is a Romance language spoken by around 66 million people. The code below renders a map showing places around the world where Italian is spoken, which include:\n",
    "\n",
    "- Italy\n",
    "- San Marino\n",
    "- Switzerland\n",
    "- Vatican City"
   ]
  },
  {
   "cell_type": "code",
   "execution_count": 43,
   "id": "c5d60928",
   "metadata": {},
   "outputs": [],
   "source": [
    "custom_italian_style = Style(colors = ('#31ce87', '#31ce87'))\n",
    "\n",
    "italian = pygal.maps.world.World(style=custom_italian_style, show_legend=False)\n",
    "\n",
    "italian.title = 'Places around the world where Italian is spoken as an official or majority language'\n",
    "\n",
    "italian.add('Italian', {\n",
    "    'ch', 'it', 'sm', 'va'\n",
    "})\n",
    "\n",
    "italian.render_to_file('indo_european_maps/italian.svg')"
   ]
  },
  {
   "cell_type": "markdown",
   "id": "4dc64afc",
   "metadata": {},
   "source": [
    "### Other languages\n",
    "\n",
    "Other examples of European Indo-European languages include:\n",
    "\n",
    "#### Romance languages:\n",
    "\n",
    "- Romanian\n",
    "- Catalan\n",
    "- Galician\n",
    "\n",
    "#### Slavic languages:\n",
    "\n",
    "- Polish\n",
    "- Ukrainian\n",
    "- Czech\n",
    "\n",
    "#### Baltic languages:\n",
    "\n",
    "- Latvian\n",
    "- Lithuanian\n",
    "\n",
    "#### Celtic languages:\n",
    "\n",
    "- Irish\n",
    "- Welsh\n",
    "- Scottish Gaelic\n",
    "\n",
    "#### Independent branches:\n",
    "\n",
    "- Greek\n",
    "- Armenian\n",
    "- Albanian"
   ]
  },
  {
   "cell_type": "markdown",
   "id": "378a8ced",
   "metadata": {},
   "source": [
    "## Asian languages"
   ]
  },
  {
   "cell_type": "markdown",
   "id": "71d757f7",
   "metadata": {},
   "source": [
    "The Indo-European language family also consists of many of languages spoken in Asia, primarily in India and West Asia."
   ]
  },
  {
   "cell_type": "markdown",
   "id": "bce49799",
   "metadata": {},
   "source": [
    "### Hindi\n",
    "\n",
    "Hindi (हिन्दी) is the third most spoken language in the world by total number of speakers, amounting to around 610 million. The code below renders a map showing places where Hindi is spoken as an official or majority language."
   ]
  },
  {
   "cell_type": "code",
   "execution_count": 4,
   "id": "e0da9fe2",
   "metadata": {},
   "outputs": [],
   "source": [
    "custom_hindi_style = Style(colors = ('#f69309', '#f69309'))\n",
    "\n",
    "hindi = pygal.maps.world.World(style=custom_hindi_style, show_legend=False)\n",
    "\n",
    "hindi.title = 'Places around the world where Hindi is spoken as an official or majority language'\n",
    "\n",
    "hindi.add('Hindi', {\n",
    "    'in'\n",
    "})\n",
    "\n",
    "hindi.render_to_file('indo_european_maps/hindi.svg')"
   ]
  },
  {
   "cell_type": "markdown",
   "id": "98bb7dc8",
   "metadata": {},
   "source": [
    "### Bengali\n",
    "\n",
    "Bengali (বাংলা) is the seventh most spoken language in the world by total number of speakers, of around 273 million. The code below renders a map showing places where Bengali is spoken as an official or majority language."
   ]
  },
  {
   "cell_type": "code",
   "execution_count": 6,
   "id": "10eb7474",
   "metadata": {},
   "outputs": [],
   "source": [
    "custom_bengali_style = Style(colors = ('#00a37a', '#00a37a'))\n",
    "\n",
    "bengali = pygal.maps.world.World(style=custom_bengali_style, show_legend=False)\n",
    "\n",
    "bengali.title = 'Places around the world where Bengali is spoken as an official or majority language'\n",
    "\n",
    "bengali.add('Bengali', {\n",
    "    'bd'\n",
    "})\n",
    "\n",
    "bengali.render_to_file('indo_european_maps/bengali.svg')"
   ]
  },
  {
   "cell_type": "markdown",
   "id": "05b1d019",
   "metadata": {},
   "source": [
    "### Urdu\n",
    "\n",
    "Urdu (اردو) is the tenth most spoken language in the world by total number of speakers, of around 232 million. The code below renders a map showing places where Urdu is spoken as an official or majority language."
   ]
  },
  {
   "cell_type": "code",
   "execution_count": 8,
   "id": "9055292f",
   "metadata": {},
   "outputs": [],
   "source": [
    "custom_urdu_style = Style(colors = ('#048a4c', '#048a4c'))\n",
    "\n",
    "urdu = pygal.maps.world.World(style=custom_urdu_style, show_legend=False)\n",
    "\n",
    "urdu.title = 'Places around the world where Urdu is spoken as an official or majority language'\n",
    "\n",
    "urdu.add('Urdu', {\n",
    "    'pk'\n",
    "})\n",
    "\n",
    "urdu.render_to_file('indo_european_maps/urdu.svg')"
   ]
  },
  {
   "cell_type": "markdown",
   "id": "192c0250",
   "metadata": {},
   "source": [
    "### Persian\n",
    "\n",
    "Persian is a language that consists of three mutually intelligible varieties, namely Iranian Persian/Farsi (فارسی) in Iran, Dari (دری) in Afghanistan and Tajik (Тоҷикӣ) in Tajikistan. Altogether, there are around 110 million speakers of Persian. The code below renders a map showing places where Persian is spoken as an official or majority language. "
   ]
  },
  {
   "cell_type": "code",
   "execution_count": 10,
   "id": "1c64d613",
   "metadata": {},
   "outputs": [],
   "source": [
    "custom_persian_style = Style(colors = ('#0ff078', '#0ff078'))\n",
    "\n",
    "persian = pygal.maps.world.World(style=custom_persian_style, show_legend=False)\n",
    "\n",
    "persian.title = 'Places around the world where Persian is spoken as an official or majority language'\n",
    "\n",
    "persian.add('Persian', {\n",
    "    'af', 'ir', 'tj'\n",
    "})\n",
    "\n",
    "persian.render_to_file('indo_european_maps/persian.svg')"
   ]
  },
  {
   "cell_type": "markdown",
   "id": "4fe3ea38",
   "metadata": {},
   "source": [
    "### Other languages:\n",
    "\n",
    "Other examples of Asian Indo-European languages include:\n",
    "\n",
    "#### Indo-Aryan:\n",
    "\n",
    "- Marathi\n",
    "- Punjabi\n",
    "- Gujarati\n",
    "- Nepali\n",
    "- Sinhala\n",
    "- Romani\n",
    "\n",
    "#### Iranian:\n",
    "\n",
    "- Pashto\n",
    "- Kurdish\n",
    "- Balochi\n",
    "\n",
    "#### Nuristani:\n",
    "\n",
    "- Kamkata-vari\n",
    "- Askunu"
   ]
  },
  {
   "cell_type": "markdown",
   "id": "77e3b3eb",
   "metadata": {},
   "source": [
    "## Number of speakers"
   ]
  },
  {
   "cell_type": "markdown",
   "id": "4ef7e12a",
   "metadata": {},
   "source": [
    "The code below renders a bar chart showing the 11 most spoken Indo-European languages by total number of speakers."
   ]
  },
  {
   "cell_type": "code",
   "execution_count": 13,
   "id": "8a116f4c",
   "metadata": {},
   "outputs": [
    {
     "data": {
      "image/png": "[encoded data removed]",
      "text/plain": [
       "<Figure size 640x480 with 1 Axes>"
      ]
     },
     "metadata": {},
     "output_type": "display_data"
    }
   ],
   "source": [
    "eu_languages = pd.DataFrame({'language': ['English', 'Hindi', 'Spanish', 'French', 'Bengali', 'Portuguese', 'Russian', 'Urdu', 'Punjabi', 'German', 'Persian (all varieties)'],\n",
    "                            'speakers': [1500, 610, 600, 300, 273, 260, 260, 232, 153, 130, 120]})\n",
    "\n",
    "eu_languages_chart = eu_languages.plot.bar(x='language', y='speakers', title='The top 11 most spoken European Indo-European languages by total number of speakers', xlabel='Language', ylabel='Number of speakers in millions', color='#2ecbd1', legend=False)"
   ]
  },
  {
   "cell_type": "markdown",
   "id": "8e97e206",
   "metadata": {},
   "source": [
    "## References:\n",
    "\n",
    "https://www.ethnologue.com/insights/ethnologue200/\n",
    "\n",
    "https://www.statista.com/statistics/266808/the-most-spoken-languages-worldwide/\n",
    "\n",
    "https://www.nationsonline.org/oneworld/countries_by_languages.htm\n",
    "\n",
    "https://www.langoly.com/most-spoken-languages-in-europe/\n",
    "\n",
    "https://www.daytranslations.com/blog/europe-language-family/\n",
    "\n",
    "#### English language:\n",
    "https://www.lingoda.com/en/content/english-speaking-countries/\n",
    "\n",
    "#### Spanish language:\n",
    "https://cvc.cervantes.es/lengua/espanol_lengua_viva/pdf/espanol_lengua_viva_2021.pdf\n",
    "\n",
    "https://www.bergesinstitutespanish.com/spanish-native-speakers\n",
    "\n",
    "#### Italian language:\n",
    "https://www.thinkinitalian.com/italian-language-facts/\n",
    "\n",
    "#### Persian language:\n",
    "https://www.worldatlas.com/articles/where-is-farsi-spoken.html\n",
    "\n",
    "#### Punjabi language:\n",
    "https://www.worlddata.info/languages/punjabi.php"
   ]
  }
 ],
 "metadata": {
  "kernelspec": {
   "display_name": "Python 3 (ipykernel)",
   "language": "python",
   "name": "python3"
  },
  "language_info": {
   "codemirror_mode": {
    "name": "ipython",
    "version": 3
   },
   "file_extension": ".py",
   "mimetype": "text/x-python",
   "name": "python",
   "nbconvert_exporter": "python",
   "pygments_lexer": "ipython3",
   "version": "3.11.3"
  }
 },
 "nbformat": 4,
 "nbformat_minor": 5
}

{
 "cells": [
  {
   "cell_type": "code",
   "execution_count": 3,
   "id": "4165d4e5",
   "metadata": {},
   "outputs": [],
   "source": [
    "import pygal\n",
    "from pygal.style import Style"
   ]
  },
  {
   "cell_type": "markdown",
   "id": "9f5c3296",
   "metadata": {},
   "source": [
    "## Indo-European language family\n",
    "\n",
    "The Indo-European language family is one of the major language families of the world. Many countries around the world have an Indo-European language as an official or majority language."
   ]
  },
  {
   "cell_type": "markdown",
   "id": "f76862f6",
   "metadata": {},
   "source": [
    "### Examples of Indo-European languages\n",
    "\n",
    "- English\n",
    "- French\n",
    "- Spanish\n",
    "- German\n",
    "- Italian\n",
    "- Hindi\n",
    "- Punjabi\n",
    "- Farsi"
   ]
  },
  {
   "cell_type": "code",
   "execution_count": 7,
   "id": "0bcb986e",
   "metadata": {},
   "outputs": [],
   "source": [
    "custom_style = Style(colors = ('#2ecbd1', '#2ecbd1'))\n",
    "\n",
    "ie_worldmap = pygal.maps.world.World(style=custom_style)\n",
    "\n",
    "ie_worldmap.title = 'Places where an Indo-European language(s) is (are) spoken as an official or majority language'\n",
    "\n",
    "ie_worldmap.add('Indo-European', {\n",
    "                'ad', 'af', 'al', 'am', 'ao', 'ar', 'at', 'au', 'ba', 'bd', 'be', 'bf', \n",
    "                'bg', 'bi', 'bj', 'bo', 'br', 'bw', 'by', 'bz', 'ca', 'cd', 'cf', 'cg', \n",
    "                'ch', 'ci', 'cl', 'cm', 'co', 'cr', 'cu', 'cv', 'cy', 'cz', 'de', 'dj', \n",
    "                'dk', 'do', 'ec', 'es', 'fi', 'fr', 'ga', 'gb', 'gf', 'gh', 'gl', 'gm', \n",
    "                'gn', 'gq', 'gr', 'gt', 'gu', 'gw', 'gy', 'hk', 'hn', 'hr', 'ht', 'ie', \n",
    "                'in', 'is', 'it', 'jm', 'ke', 'li', 'lk', 'lr', 'ls', 'lt', 'lu', 'lv', \n",
    "                'mc', 'md', 'me', 'mg', 'mk', 'ml', 'mo', 'mt', 'mu', 'mv', 'mw', 'mx', \n",
    "                'mz', 'na', 'ne', 'ng', 'ni', 'nl', 'no', 'np', 'nz', 'pa', 'pe', 'pg',\n",
    "                'ph', 'pk', 'pl', 'pr', 'pt', 'py', 're', 'ro', 'rs', 'ru', 'rw', 'sc',\n",
    "                'sd', 'se', 'sg', 'sh', 'si', 'sk', 'sl', 'sm', 'sn', 'sr', 'st', 'sv',\n",
    "                'sz', 'td', 'tg', 'tl', 'tz', 'ua', 'ug', 'us', 'uy', 'va', 've', 'yt',\n",
    "                'za', 'zm', 'zw'\n",
    "})\n",
    "\n",
    "ie_worldmap.render_to_file('indoeuropean.svg')"
   ]
  },
  {
   "cell_type": "markdown",
   "id": "3ba27be8",
   "metadata": {},
   "source": [
    "The code above renders a world map revealing all the countries where an Indo-European language is spoken as an official or majority language, which can be found in the directory."
   ]
  },
  {
   "cell_type": "markdown",
   "id": "49a3a1bd",
   "metadata": {},
   "source": [
    "### English\n",
    "\n",
    "English is the most spoken language in the world by total number of speakers, amounting to almost 1.5 billion people. The code below renders a map showing different countries in the world where English is spoken as an official or majority language, which include:\n",
    "\n",
    "- Australia\n",
    "- Belize\n",
    "- Botswana\n",
    "- Cameroon\n",
    "- Canada\n",
    "- Ghana\n",
    "- Gambia\n",
    "- Guyana\n",
    "- Hong Kong\n",
    "- Ireland\n",
    "- India\n",
    "- Jamaica\n",
    "- Kenya\n",
    "- Liberia\n",
    "- Malta\n",
    "- Malawi\n",
    "- Namibia\n",
    "- Nigeria\n",
    "- New Zealand\n",
    "- Pakistan\n",
    "- Papua New Guinea\n",
    "- Philippines\n",
    "- Rwanda\n",
    "- Sierra Leone\n",
    "- Singapore\n",
    "- South Africa\n",
    "- Sudan\n",
    "- Uganda\n",
    "- United Kingdom\n",
    "- Zambia\n",
    "- Zimbabwe"
   ]
  },
  {
   "cell_type": "code",
   "execution_count": 31,
   "id": "1cdf6d99",
   "metadata": {},
   "outputs": [],
   "source": [
    "custom_english_style = Style(colors = ('#0fb364', '#0fb364'))\n",
    "\n",
    "english = pygal.maps.world.World(style=custom_english_style)\n",
    "\n",
    "english.title = 'Places around the world where English is spoken as an official or majority language'\n",
    "\n",
    "english.add('English', {\n",
    "            'au', 'bw', 'bz', 'ca', 'cm', 'gb', 'gh', 'gm', 'gy', 'hk', 'ie', 'in', 'jm', 'ke', 'lr', 'mt', 'mw', 'na', 'ng', 'nz', 'pg', 'ph', 'pk', 'rw', 'sd', 'sg', 'sl', 'ug', 'us', 'za', 'zm', 'zw'\n",
    "})\n",
    "\n",
    "english.render_to_file('english.svg')"
   ]
  },
  {
   "cell_type": "markdown",
   "id": "68d27a62",
   "metadata": {},
   "source": [
    "## References:\n",
    "\n",
    "https://www.ethnologue.com/insights/ethnologue200/\n",
    "\n",
    "#### English language:\n",
    "https://www.lingoda.com/en/content/english-speaking-countries/"
   ]
  }
 ],
 "metadata": {
  "kernelspec": {
   "display_name": "Python 3 (ipykernel)",
   "language": "python",
   "name": "python3"
  },
  "language_info": {
   "codemirror_mode": {
    "name": "ipython",
    "version": 3
   },
   "file_extension": ".py",
   "mimetype": "text/x-python",
   "name": "python",
   "nbconvert_exporter": "python",
   "pygments_lexer": "ipython3",
   "version": "3.11.3"
  }
 },
 "nbformat": 4,
 "nbformat_minor": 5
}
